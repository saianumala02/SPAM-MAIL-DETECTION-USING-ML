{
 "cells": [
  {
   "cell_type": "markdown",
   "id": "4cb337a8-94bc-47ff-843b-e6ad2858a1e8",
   "metadata": {},
   "source": [
    "# Spam Detection with Logistic Regression"
   ]
  },
  {
   "cell_type": "code",
   "execution_count": 5,
   "id": "fb436bdc-eed1-44d8-ad1e-ae6a9d11601e",
   "metadata": {},
   "outputs": [],
   "source": [
    "import numpy as np\n",
    "import pandas as pd\n",
    "from sklearn.model_selection import train_test_split\n",
    "from sklearn.feature_extraction.text import TfidfVectorizer\n",
    "from sklearn.linear_model import LogisticRegression\n",
    "from sklearn.metrics import accuracy_score\n",
    "from sklearn.impute import SimpleImputer"
   ]
  },
  {
   "cell_type": "markdown",
   "id": "d42c83fd-29eb-4619-9453-818559a8c96c",
   "metadata": {},
   "source": [
    "## Data Collection & Pre-Processing"
   ]
  },
  {
   "cell_type": "markdown",
   "id": "a2629f0a-b703-41c2-94d0-f72ecb0b2325",
   "metadata": {},
   "source": [
    "#### Loading the data from csv file to a pandas DataFrame"
   ]
  },
  {
   "cell_type": "code",
   "execution_count": 6,
   "id": "65c397b5-7228-4b8e-9a58-d06f987afd87",
   "metadata": {},
   "outputs": [],
   "source": [
    "raw_mail_data = pd.read_csv('spam_ham_dataset_.csv')\n",
    "#print(raw_mail_data)"
   ]
  },
  {
   "cell_type": "markdown",
   "id": "f1cefc61-9432-4739-9e6f-7db86c90a94c",
   "metadata": {},
   "source": [
    "#### Replace the null values with a null string"
   ]
  },
  {
   "cell_type": "code",
   "execution_count": 8,
   "id": "5f5fb405-3634-4ac3-b038-8d264937b5ed",
   "metadata": {},
   "outputs": [],
   "source": [
    "\n",
    "mail_data = raw_mail_data.fillna('')\n"
   ]
  },
  {
   "cell_type": "markdown",
   "id": "09c3307c-befc-4306-a6a8-ff9c589cd4b6",
   "metadata": {},
   "source": [
    "#### Printing the first 5 rows of the DataFrame"
   ]
  },
  {
   "cell_type": "code",
   "execution_count": 9,
   "id": "fabfde01-5ef0-4fcb-818d-fb0086825b38",
   "metadata": {},
   "outputs": [
    {
     "name": "stdout",
     "output_type": "stream",
     "text": [
      "   Unnamed: 0 Category                                            Message  \\\n",
      "0         605      ham  Subject: enron methanol ; meter # : 988291\\r\\n...   \n",
      "1        2349      ham  Subject: hpl nom for january 9 , 2001\\r\\n( see...   \n",
      "2        3624      ham  Subject: neon retreat\\r\\nho ho ho , we ' re ar...   \n",
      "3        4685     spam  Subject: photoshop , windows , office . cheap ...   \n",
      "4        2030      ham  Subject: re : indian springs\\r\\nthis deal is t...   \n",
      "5        2949      ham  Subject: ehronline web address change\\r\\nthis ...   \n",
      "6        2793      ham  Subject: spring savings certificate - take 30 ...   \n",
      "7        4185     spam  Subject: looking for medication ? we ` re the ...   \n",
      "8        2641      ham  Subject: noms / actual flow for 2 / 26\\r\\nwe a...   \n",
      "9        1870      ham  Subject: nominations for oct . 21 - 23 , 2000\\...   \n",
      "\n",
      "   label_num  \n",
      "0          0  \n",
      "1          0  \n",
      "2          0  \n",
      "3          1  \n",
      "4          0  \n",
      "5          0  \n",
      "6          0  \n",
      "7          1  \n",
      "8          0  \n",
      "9          0  \n"
     ]
    }
   ],
   "source": [
    "\n",
    "print(mail_data.head(10))\n"
   ]
  },
  {
   "cell_type": "markdown",
   "id": "3adb01b5-b035-486f-b36f-0f674b7434f2",
   "metadata": {},
   "source": [
    "#### Checking the number of rows and columns in the DataFrame"
   ]
  },
  {
   "cell_type": "code",
   "execution_count": 10,
   "id": "9f724aaf-8d12-423d-ba37-b6c649f081d5",
   "metadata": {},
   "outputs": [
    {
     "name": "stdout",
     "output_type": "stream",
     "text": [
      "(5171, 4)\n"
     ]
    }
   ],
   "source": [
    "\n",
    "print(mail_data.shape)\n"
   ]
  },
  {
   "cell_type": "markdown",
   "id": "74a74b80-fc53-4db2-ad7a-e8f9814f8692",
   "metadata": {},
   "source": [
    "## Label Encoding"
   ]
  },
  {
   "cell_type": "markdown",
   "id": "595eefac-f455-497e-b74d-2feb71edab2c",
   "metadata": {},
   "source": [
    "#### Label spam mail as 0, ham mail as 1"
   ]
  },
  {
   "cell_type": "code",
   "execution_count": 11,
   "id": "94d5145f-a9ad-45a1-8ee2-7f3e3b3f2683",
   "metadata": {},
   "outputs": [],
   "source": [
    "\n",
    "mail_data['Category'] = mail_data['Category'].map({'spam': 0, 'ham': 1})\n"
   ]
  },
  {
   "cell_type": "markdown",
   "id": "e337f036-d0e4-4038-9d72-ae690057e9de",
   "metadata": {},
   "source": [
    "#### Separating the data as texts and labels"
   ]
  },
  {
   "cell_type": "code",
   "execution_count": 12,
   "id": "5063fce6-05f0-4616-b5df-72242ddc7cdd",
   "metadata": {},
   "outputs": [
    {
     "name": "stdout",
     "output_type": "stream",
     "text": [
      "0       Subject: enron methanol ; meter # : 988291\\r\\n...\n",
      "1       Subject: hpl nom for january 9 , 2001\\r\\n( see...\n",
      "2       Subject: neon retreat\\r\\nho ho ho , we ' re ar...\n",
      "3       Subject: photoshop , windows , office . cheap ...\n",
      "4       Subject: re : indian springs\\r\\nthis deal is t...\n",
      "                              ...                        \n",
      "5166    Subject: put the 10 on the ft\\r\\nthe transport...\n",
      "5167    Subject: 3 / 4 / 2000 and following noms\\r\\nhp...\n",
      "5168    Subject: calpine daily gas nomination\\r\\n>\\r\\n...\n",
      "5169    Subject: industrial worksheets for august 2000...\n",
      "5170    Subject: important online banking alert\\r\\ndea...\n",
      "Name: Message, Length: 5171, dtype: object\n"
     ]
    }
   ],
   "source": [
    "\n",
    "X = mail_data['Message']\n",
    "Y = mail_data['Category']\n",
    "\n",
    "print(X)"
   ]
  },
  {
   "cell_type": "code",
   "execution_count": 35,
   "id": "bd85a417-8592-433a-8ca6-392aacec21be",
   "metadata": {},
   "outputs": [
    {
     "name": "stdout",
     "output_type": "stream",
     "text": [
      "0       1\n",
      "1       1\n",
      "2       1\n",
      "3       0\n",
      "4       1\n",
      "       ..\n",
      "5166    1\n",
      "5167    1\n",
      "5168    1\n",
      "5169    1\n",
      "5170    0\n",
      "Name: Category, Length: 5171, dtype: int64\n"
     ]
    }
   ],
   "source": [
    "print(Y)"
   ]
  },
  {
   "cell_type": "markdown",
   "id": "90702211-e126-4b25-b46e-9a1dfeede387",
   "metadata": {},
   "source": [
    "# Splitting the data into training data & test data"
   ]
  },
  {
   "cell_type": "code",
   "execution_count": 13,
   "id": "be322d86-5ff5-4191-8419-29d56d97f9db",
   "metadata": {},
   "outputs": [
    {
     "name": "stdout",
     "output_type": "stream",
     "text": [
      "Shape of Independet Data set (5171,)\n",
      "\n",
      "Input data Training Set Shape...: (4136,)\n",
      "\n",
      "Input data Testing Set Shape...: (1035,)\n",
      "\n",
      "Shape of Dependet Data set (5171,)\n",
      "\n",
      "Output data Training Set Shape...: (4136,)\n",
      "\n",
      "Output data Testing Set Shape...: (1035,)\n"
     ]
    }
   ],
   "source": [
    "\n",
    "X_train, X_test, Y_train, Y_test = train_test_split(X, Y, test_size=0.2, random_state=3)\n",
    "\n",
    "print(\"Shape of Independet Data set\",X.shape)\n",
    "print(\"\\nInput data Training Set Shape...:\",X_train.shape)\n",
    "print(\"\\nInput data Testing Set Shape...:\",X_test.shape)\n",
    "print(\"\\nShape of Dependet Data set\",Y.shape)\n",
    "print(\"\\nOutput data Training Set Shape...:\",Y_train.shape)\n",
    "print(\"\\nOutput data Testing Set Shape...:\",Y_test.shape)"
   ]
  },
  {
   "cell_type": "markdown",
   "id": "4fd51b5d-1e58-4697-842a-ac8556a7a19b",
   "metadata": {},
   "source": [
    "## Feature Extraction"
   ]
  },
  {
   "cell_type": "markdown",
   "id": "ebe82cb7-f0b7-4a82-8a5e-cae42d08bc7f",
   "metadata": {},
   "source": [
    "#### Transform the text data to feature vectors that can be used as input to Logistic regression"
   ]
  },
  {
   "cell_type": "code",
   "execution_count": 54,
   "id": "65147ecb-1447-4b2e-aa10-f3dcbe27f424",
   "metadata": {},
   "outputs": [],
   "source": [
    "\n",
    "\n",
    "feature_extraction = TfidfVectorizer(min_df=1, stop_words='english', lowercase=True)\n",
    "\n",
    "X_train_features = feature_extraction.fit_transform(X_train)\n",
    "X_test_features = feature_extraction.transform(X_test)\n",
    "\n"
   ]
  },
  {
   "cell_type": "markdown",
   "id": "b1facddd-84db-48eb-b3ce-67d3159358f4",
   "metadata": {},
   "source": [
    "#### Convert Y_train and Y_test to integers"
   ]
  },
  {
   "cell_type": "code",
   "execution_count": null,
   "id": "ed267990-bc43-47ab-a9d1-712abb974ac7",
   "metadata": {},
   "outputs": [],
   "source": [
    "\n",
    "\n",
    "Y_train = Y_train.astype('int')\n",
    "Y_test = Y_test.astype('int')\n",
    "\n",
    "print(X_train)\n",
    "#print(X_train_features)\n"
   ]
  },
  {
   "cell_type": "markdown",
   "id": "a2f6489b-e5ee-4c5b-9488-47940f2a35c6",
   "metadata": {},
   "source": [
    "# Training the Model: Logistic Regression"
   ]
  },
  {
   "cell_type": "code",
   "execution_count": 59,
   "id": "ace2077b-52c8-44d3-ae48-e015370b01df",
   "metadata": {},
   "outputs": [
    {
     "name": "stdout",
     "output_type": "stream",
     "text": [
      "\n",
      "Model is Developed.....!\n"
     ]
    }
   ],
   "source": [
    "\n",
    "model = LogisticRegression()\n",
    "print(\"\\nModel is Developed.....!\")\n"
   ]
  },
  {
   "cell_type": "markdown",
   "id": "456d1785-8e3a-47e9-95eb-f2d6643049e4",
   "metadata": {},
   "source": [
    "## Training the Logistic Regression model with the training data"
   ]
  },
  {
   "cell_type": "code",
   "execution_count": 61,
   "id": "50876c39-e3a0-4f13-b1b4-785b606d2a82",
   "metadata": {},
   "outputs": [
    {
     "name": "stdout",
     "output_type": "stream",
     "text": [
      "\n",
      "Model is trained Successfully...!\n"
     ]
    }
   ],
   "source": [
    "\n",
    "model.fit(X_train_features, Y_train)\n",
    "\n",
    "print(\"\\nModel is trained Successfully...!\")"
   ]
  },
  {
   "cell_type": "markdown",
   "id": "5f35dd1c-404b-4c59-be12-e81a4ef7a787",
   "metadata": {},
   "source": [
    "# Evaluating the trained model"
   ]
  },
  {
   "cell_type": "markdown",
   "id": "dec79ea3-5ff2-42a3-9c58-7a9ca90f8b26",
   "metadata": {},
   "source": [
    "### Prediction on training data"
   ]
  },
  {
   "cell_type": "code",
   "execution_count": 16,
   "id": "e3774abe-2162-43e7-b41c-d92d2c643e11",
   "metadata": {},
   "outputs": [
    {
     "name": "stdout",
     "output_type": "stream",
     "text": [
      "\n",
      "Accuracy on training data: 0.9968568665377177\n"
     ]
    }
   ],
   "source": [
    "\n",
    "prediction_on_training_data = model.predict(X_train_features)\n",
    "accuracy_on_training_data = accuracy_score(Y_train, prediction_on_training_data)\n",
    "\n",
    "print('\\nAccuracy on training data:', accuracy_on_training_data)\n"
   ]
  },
  {
   "cell_type": "markdown",
   "id": "55c654e0-00a5-4bde-bd6c-55eb34460c09",
   "metadata": {},
   "source": [
    "### Prediction on test data"
   ]
  },
  {
   "cell_type": "code",
   "execution_count": 17,
   "id": "c42a1011-a3ce-43f3-9003-969512268654",
   "metadata": {},
   "outputs": [
    {
     "name": "stdout",
     "output_type": "stream",
     "text": [
      "Accuracy on test data: 0.9806763285024155\n"
     ]
    }
   ],
   "source": [
    "\n",
    "prediction_on_test_data = model.predict(X_test_features)\n",
    "accuracy_on_test_data = accuracy_score(Y_test, prediction_on_test_data)\n",
    "\n",
    "print('Accuracy on test data:', accuracy_on_test_data)\n",
    "\n"
   ]
  },
  {
   "cell_type": "markdown",
   "id": "c1510509-bbe9-4d65-988d-8df5f1636345",
   "metadata": {},
   "source": [
    "## Testing the Model with Input Data"
   ]
  },
  {
   "cell_type": "code",
   "execution_count": 69,
   "id": "ea2b6cf1-73f5-4364-be8c-3ee0085a8b80",
   "metadata": {},
   "outputs": [],
   "source": [
    "\n",
    "input_mail = [\"I've been searching for the right words to thank you for this breather. I promise i wont take your help for granted and will fulfil my promise. You have been wonderful and a blessing at all times\"]\n",
    "\"\"\"Application Update 139 Spam\"\"\"\n",
    "input_mail =[\"Subject: password reset\"] #Row Num 104\n",
    "#input_mail=[\"Application Update\"]\n",
    "# convert text to feature vectors\n",
    "input_data_features = feature_extraction.transform(input_mail)\n"
   ]
  },
  {
   "cell_type": "markdown",
   "id": "3b7723f9-adaa-4a24-98d5-e23453f9df0a",
   "metadata": {},
   "source": [
    "### Making Prediction"
   ]
  },
  {
   "cell_type": "code",
   "execution_count": 67,
   "id": "be89695c-b375-409b-abd8-8bfbdc135324",
   "metadata": {},
   "outputs": [
    {
     "name": "stdout",
     "output_type": "stream",
     "text": [
      "[1]\n",
      "Input Mail :-  ['Subject: password reset']\n"
     ]
    }
   ],
   "source": [
    "\n",
    "prediction = model.predict(input_data_features)\n",
    "print(prediction)\n",
    "\n",
    "print(\"Input Mail :- \",input_mail)\n"
   ]
  },
  {
   "cell_type": "code",
   "execution_count": 76,
   "id": "6e085bb4-7086-4d82-abc0-3f08cc6edcb3",
   "metadata": {},
   "outputs": [
    {
     "name": "stdout",
     "output_type": "stream",
     "text": [
      "\n",
      "Result : Your Mail is Ham mail\n"
     ]
    }
   ],
   "source": [
    "print(\"\\nResult : \",end='')\n",
    "if (prediction[0]==1):\n",
    "  print('Your Mail is Ham mail')\n",
    "\n",
    "else:\n",
    "  print('Your Mail is Spam mail')"
   ]
  }
 ],
 "metadata": {
  "kernelspec": {
   "display_name": "Python 3 (ipykernel)",
   "language": "python",
   "name": "python3"
  },
  "language_info": {
   "codemirror_mode": {
    "name": "ipython",
    "version": 3
   },
   "file_extension": ".py",
   "mimetype": "text/x-python",
   "name": "python",
   "nbconvert_exporter": "python",
   "pygments_lexer": "ipython3",
   "version": "3.12.4"
  }
 },
 "nbformat": 4,
 "nbformat_minor": 5
}
